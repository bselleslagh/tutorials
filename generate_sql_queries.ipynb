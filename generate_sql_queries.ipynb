{
  "cells": [
    {
      "cell_type": "markdown",
      "metadata": {
        "id": "fCNYuvJeAk4_"
      },
      "source": [
        "# SQL Query Generator 🤖🧑🏻‍💻\n",
        "This notebook demonstrates the ability to generate SQL queries from a given natural language question. The notebook is divided into two parts:\n",
        "1. **Data Generation**: This section generates fake CRM data and stores it in a SQL database.\n",
        "2. **Query Generation**: This section generates SQL queries from natural language questions.\n",
        "\n",
        "## Data Generation\n",
        "The following code generates fake CRM data for a second hand car market and stores it in a SQL database. The data is generated using the [Faker](https://faker.readthedocs.io/en/master/) library."
      ]
    },
    {
      "cell_type": "code",
      "execution_count": null,
      "metadata": {
        "cell_id": "79994b6168374daaaa40d9206e4efede",
        "deepnote_cell_type": "code",
        "deepnote_to_be_reexecuted": false,
        "execution_millis": 106,
        "execution_start": 1684266200758,
        "source_hash": "5ef407a3",
        "id": "0nErNo-1Ak5C"
      },
      "outputs": [],
      "source": [
        "from faker import Faker\n",
        "from faker_vehicle import VehicleProvider\n",
        "import pandas as pd\n",
        "from sqlalchemy import create_engine, text\n",
        "import os\n",
        "\n",
        "server = os.environ['SQL_DATABASE_HOST']\n",
        "database = os.environ['SQL_DATABASE_NAME']\n",
        "username = os.environ['SQL_DATABASE_USER']\n",
        "password = os.environ['SQL_DATABASE_PWD']\n",
        "driver = '{ODBC Driver 17 for SQL Server}'\n",
        "\n",
        "# Create a connection string\n",
        "connection_string = f\"DRIVER={driver};SERVER={server};DATABASE={database};UID={username};PWD={password}\"\n",
        "\n",
        "# use sqlalchemy to create a connection to the database\n",
        "engine = create_engine(f\"mssql+pyodbc:///?odbc_connect={connection_string}\")"
      ]
    },
    {
      "cell_type": "code",
      "execution_count": null,
      "metadata": {
        "cell_id": "07ba78e112f14dfebca60cc5532edaf0",
        "deepnote_cell_type": "code",
        "deepnote_to_be_reexecuted": false,
        "execution_millis": 6077,
        "execution_start": 1684260786032,
        "source_hash": "19b5321e",
        "id": "F51y1NBjAk5D"
      },
      "outputs": [],
      "source": [
        "# Create a Faker instance for Belgium\n",
        "fake = Faker('nl_BE')\n",
        "fake.add_provider(VehicleProvider)\n",
        "\n",
        "def generate_customer_data(n):\n",
        "    \"\"\"Generate n rows of fake customer data.\"\"\"\n",
        "    data = []\n",
        "    for _ in range(n):\n",
        "        data.append([fake.unique.random_number(digits=5),\n",
        "                     fake.first_name(),\n",
        "                     fake.last_name(),\n",
        "                     fake.email(),\n",
        "                     fake.phone_number(),\n",
        "                     fake.street_address(),\n",
        "                     fake.city(),\n",
        "                     fake.postcode(),\n",
        "                     'Belgium'])\n",
        "    return data\n",
        "\n",
        "\n",
        "# Generate 10K rows of data\n",
        "data = generate_customer_data(10000)\n",
        "\n",
        "# Create a pandas DataFrame\n",
        "df = pd.DataFrame(data, columns=['CustomerID', 'FirstName', 'LastName', 'Email', 'PhoneNumber', 'Address', 'City', 'PostalCode', 'Country'])\n",
        "\n",
        "# Save the data from dataframe to SQL Server, create a connection to the database\n",
        "with engine.connect() as conn:\n",
        "    df.to_sql('customers', conn, if_exists='replace', index=False)"
      ]
    },
    {
      "cell_type": "code",
      "execution_count": null,
      "metadata": {
        "id": "i4KgL8POAk5E"
      },
      "outputs": [],
      "source": [
        "# Now let's generate a table of 100 cars: productID, brand, model, year, price\n",
        "fake.unique.clear()\n",
        "def generate_product_data(n):\n",
        "    \"\"\"Generate n rows of fake product data.\"\"\"\n",
        "    data = []\n",
        "    for _ in range(n):\n",
        "        vehicle = fake.vehicle_object()\n",
        "        data.append([fake.unique.random_number(digits=5),\n",
        "                     vehicle['Make'],\n",
        "                     vehicle['Model'],\n",
        "                     vehicle['Year'],\n",
        "                     fake.pydecimal(left_digits=5, right_digits=2, positive=True, min_value=100, max_value=10000)])\n",
        "    return data\n",
        "\n",
        "# Generate 100 rows of data\n",
        "data = generate_product_data(100)\n",
        "\n",
        "# Store in the database\n",
        "df = pd.DataFrame(data, columns=['ProductID', 'Brand', 'Model', 'Year', 'Price'])\n",
        "with engine.connect() as conn:\n",
        "    df.to_sql('cars', conn, if_exists='replace', index=False)"
      ]
    },
    {
      "cell_type": "code",
      "execution_count": null,
      "metadata": {
        "id": "SmOS2g10Ak5E"
      },
      "outputs": [],
      "source": [
        "# Now let's finally generate a table of 100K carsales data: SalesID, CustomerID, ProductID, Quantity, Price, DiscountPercent, Total, SalesAgent, Date\n",
        "fake.unique.clear()\n",
        "\n",
        "\n",
        "def generate_sales_data(n):\n",
        "    \"\"\"Generate n rows of fake sales data.\"\"\"\n",
        "    cars = pd.read_sql('SELECT ProductID, Price FROM cars', engine)\n",
        "    customer_ids = pd.read_sql('SELECT CustomerID FROM customers', engine)\n",
        "    data = []\n",
        "    for _ in range(n):\n",
        "        car = cars.sample().iloc[0]\n",
        "        quantity = fake.random_int(min=1, max=10)\n",
        "        discount = fake.random_int(min=0, max=10)\n",
        "        data.append([fake.unique.random_number(digits=5),\n",
        "                     customer_ids.sample().iloc[0]['CustomerID'],\n",
        "                     car['ProductID'],\n",
        "                     quantity,\n",
        "                     car['Price'],\n",
        "                     fake.random_int(min=0, max=10),\n",
        "                     float(car['Price']) * quantity * (1 - discount/100),\n",
        "                     fake.name(),\n",
        "                     fake.date_between(start_date='-1y', end_date='today')])\n",
        "    return data\n",
        "\n",
        "# Generate 10K rows of data\n",
        "data = generate_sales_data(10000)\n",
        "\n",
        "# Store in the database\n",
        "df = pd.DataFrame(data, columns=['SalesID', 'CustomerID', 'ProductID', 'Quantity', 'Price', 'DiscountPercent', 'Total', 'SalesAgent', 'Date'])\n",
        "with engine.connect() as conn:\n",
        "    df.to_sql('carsales', conn, if_exists='replace', index=False)\n"
      ]
    },
    {
      "cell_type": "markdown",
      "metadata": {
        "id": "Uk29svVOAk5E"
      },
      "source": [
        "### Let's write some SQL queries to get some insights from the data\n",
        "After this we will use langchain to visualize the data and generate SQL queries from natural language questions."
      ]
    },
    {
      "cell_type": "code",
      "execution_count": null,
      "metadata": {
        "id": "BxJar6qwAk5F",
        "outputId": "05045866-f17f-49a0-e261-6832b2c8110a"
      },
      "outputs": [
        {
          "name": "stdout",
          "output_type": "stream",
          "text": [
            "|    |   CustomerID | FirstName   | LastName   | Email                 | PhoneNumber   | Address           | City                   |   PostalCode | Country   |\n",
            "|---:|-------------:|:------------|:-----------|:----------------------|:--------------|:------------------|:-----------------------|-------------:|:----------|\n",
            "|  0 |        28485 | Lucas       | De Wilde   | opeeters@example.com  | (0647) 305383 | Jozefpad 421      | Ramskapelle-Nieuwpoort |         9903 | Belgium   |\n",
            "|  1 |        53848 | Benjamin    | Vermeiren  | yvonne97@example.net  | 028 5949158   | Brentboulevard 99 | Sorée                  |         7752 | Belgium   |\n",
            "|  2 |        77260 | Cynthia     | Claessens  | dyildirim@example.com | (068)-9861302 | Petraring 62      | Halma                  |         8000 | Belgium   |\n",
            "|  3 |        20559 | Kevin       | De Wolf    | epauwels@example.org  | (067) 4344408 | Wernerhof 3       | Marchovelette          |         9885 | Belgium   |\n",
            "|  4 |        42479 | Marie       | Stevens    | myriam98@example.org  | +3251-2922576 | Barthof 1         | Monceau-Imbrechies     |         4762 | Belgium   |\n"
          ]
        }
      ],
      "source": [
        "conn = engine.connect()\n",
        "# Display the first 5 rows of the customers table\n",
        "print(pd.read_sql('SELECT TOP 5 * FROM customers', conn).to_markdown())"
      ]
    },
    {
      "cell_type": "code",
      "execution_count": null,
      "metadata": {
        "id": "AEJQ1JI2Ak5F",
        "outputId": "a9f1a2b3-69dd-486e-b69b-41d00942d6be"
      },
      "outputs": [
        {
          "name": "stdout",
          "output_type": "stream",
          "text": [
            "|    |   ProductID | Brand         | Model                |   Year |   Price |\n",
            "|---:|------------:|:--------------|:---------------------|-------:|--------:|\n",
            "|  0 |       22195 | Volvo         | XC90                 |   2018 | 7268.46 |\n",
            "|  1 |        3045 | Lexus         | LS                   |   2012 | 5610.41 |\n",
            "|  2 |       12960 | Dodge         | Ram 2500 Regular Cab |   2003 | 7395.68 |\n",
            "|  3 |       36588 | Mercedes-Benz | 500 E                |   1992 | 2084.09 |\n",
            "|  4 |       28661 | Hyundai       | Elantra              |   2020 | 5816.77 |\n"
          ]
        }
      ],
      "source": [
        "print(pd.read_sql('SELECT TOP 5 * FROM cars', conn).to_markdown())"
      ]
    },
    {
      "cell_type": "code",
      "execution_count": null,
      "metadata": {
        "id": "8lAjrPZtAk5F",
        "outputId": "8dca59ee-c02c-47fa-af52-153b09e1fc32"
      },
      "outputs": [
        {
          "name": "stdout",
          "output_type": "stream",
          "text": [
            "|    |   SalesID |   CustomerID |   ProductID |   Quantity |   Price |   DiscountPercent |    Total | SalesAgent          | Date       |\n",
            "|---:|----------:|-------------:|------------:|-----------:|--------:|------------------:|---------:|:--------------------|:-----------|\n",
            "|  0 |     90857 |        95329 |       52580 |          3 | 7371.89 |                 8 | 19904.1  | Loes Maris          | 2022-06-13 |\n",
            "|  1 |      3678 |        82371 |       37902 |          2 | 4008.07 |                 6 |  7214.53 | Tina Roelandt       | 2022-12-10 |\n",
            "|  2 |     93435 |        12878 |        3045 |          3 | 5610.41 |                 4 | 16158    | Jens Sterckx        | 2023-02-16 |\n",
            "|  3 |      9868 |        93372 |       10953 |          6 | 6741.73 |                10 | 38023.4  | Annette Vermeulen   | 2023-03-10 |\n",
            "|  4 |     59970 |        17302 |       74690 |          5 | 7901.77 |                 8 | 35953.1  | Amber Claes De Laet | 2023-04-11 |\n"
          ]
        }
      ],
      "source": [
        "# Display the first 5 rows of the sales table\n",
        "conn = engine.connect()\n",
        "print(pd.read_sql('SELECT TOP 5 * FROM carsales', conn).to_markdown())"
      ]
    },
    {
      "cell_type": "code",
      "execution_count": null,
      "metadata": {
        "id": "lh60dz3pAk5G",
        "outputId": "242f3dc3-a22e-44d2-faca-bf6bb13cb115"
      },
      "outputs": [
        {
          "name": "stdout",
          "output_type": "stream",
          "text": [
            "Most expensive car:\n",
            "   ProductID Brand Model  Year    Price\n",
            "0      32626  Audi    A8  1997  9849.09\n",
            "\n",
            "City with most sales:\n",
            "       City      Revenue\n",
            "0  Houwaart  638551.0278\n",
            "\n",
            "Best sales agent:\n",
            "     SalesAgent      Revenue\n",
            "0  Bart Peeters  156777.7753\n",
            "\n",
            "Most popular car:\n",
            "   Brand                    Model  Quantity\n",
            "0  Dodge  Grand Caravan Passenger      1695\n"
          ]
        }
      ],
      "source": [
        "with engine.connect() as conn:\n",
        "   # What is the most expensive car?\n",
        "   print('Most expensive car:')\n",
        "   print(pd.read_sql('SELECT * FROM cars ORDER BY Price DESC', conn).head(1))\n",
        "\n",
        "   # What city has the most sales renenue?\n",
        "   print('\\nCity with most sales:')\n",
        "   query = '''\n",
        "   SELECT TOP 1 City, SUM(Total) AS Revenue\n",
        "   FROM carsales\n",
        "   INNER JOIN customers ON carsales.CustomerID = customers.CustomerID\n",
        "   GROUP BY City\n",
        "   ORDER BY Revenue DESC\n",
        "   '''\n",
        "   print(pd.read_sql(query, conn).head(1))\n",
        "\n",
        "   # Who is the best sales agent?\n",
        "   print('\\nBest sales agent:')\n",
        "   query = '''\n",
        "   SELECT SalesAgent, SUM(Total) AS Revenue\n",
        "   FROM carsales\n",
        "   GROUP BY SalesAgent\n",
        "   ORDER BY Revenue DESC\n",
        "   '''\n",
        "   print(pd.read_sql(query, conn).head(1))\n",
        "\n",
        "   # What is the most popular car?\n",
        "   print('\\nMost popular car:')\n",
        "   query = '''\n",
        "   SELECT Brand, Model, SUM(Quantity) AS Quantity\n",
        "   FROM carsales\n",
        "   INNER JOIN cars ON carsales.ProductID = cars.ProductID\n",
        "   GROUP BY Brand, Model\n",
        "   ORDER BY Quantity DESC\n",
        "   '''\n",
        "   print(pd.read_sql(query, conn).head(1))\n",
        "\n"
      ]
    },
    {
      "cell_type": "markdown",
      "metadata": {
        "id": "Y6yIVmULAk5G"
      },
      "source": [
        "## Now let's use GPT to generate SQL queries from natural language questions ⬇️\n",
        "To make this work we do some things:\n",
        "1. We first check the database and find all the tables\n",
        "2. Then the system fetches 5 random rows from each table\n",
        "3. Then we use GPT to generate SQL queries from natural language questions, passing the table details and the rows as context\n",
        "4. Optionaly we add a function to parse the result and return it back in natual language"
      ]
    },
    {
      "cell_type": "code",
      "execution_count": null,
      "metadata": {
        "id": "PoBfu0NDAk5G"
      },
      "outputs": [],
      "source": [
        "import openai\n",
        "\n",
        "openai.api_key = os.environ['OPENAI_API_KEY']"
      ]
    },
    {
      "cell_type": "code",
      "execution_count": null,
      "metadata": {
        "id": "hZP7GNigAk5G"
      },
      "outputs": [],
      "source": [
        "# Return the table names in the database\n",
        "def get_table_names():\n",
        "    with engine.connect() as conn:\n",
        "        query = '''\n",
        "        SELECT TABLE_NAME\n",
        "        FROM INFORMATION_SCHEMA.TABLES\n",
        "        WHERE TABLE_TYPE = 'BASE TABLE' AND TABLE_CATALOG='vectrix-demo'\n",
        "        '''\n",
        "        return pd.read_sql(query, conn)['TABLE_NAME'].tolist()\n",
        "\n",
        "\n",
        "# Get 5 random rows from a table and store them in a dataframe\n",
        "def get_random_rows(table, n=5):\n",
        "    with engine.connect() as conn:\n",
        "        query = f'SELECT TOP {n} * FROM {table} ORDER BY NEWID()'\n",
        "        return pd.read_sql(query, conn)\n",
        "\n",
        "\n",
        "# Call get_random_rows() for each table, and store the results as markdown in a list\n",
        "markdown = []\n",
        "for table in get_table_names():\n",
        "    markdown.append(f'### {table}')\n",
        "    markdown.append(get_random_rows(table).to_markdown())\n",
        "    markdown.append('\\n')\n",
        "\n",
        "# Join the markdown list into a single string\n",
        "table_definitions = '\\n'.join(markdown)\n",
        "table_definitions = table_definitions + '\\n---\\nReturn the TSQL Query for:'"
      ]
    },
    {
      "cell_type": "code",
      "execution_count": null,
      "metadata": {
        "id": "Q1WpCst4Ak5H"
      },
      "outputs": [],
      "source": [
        "GPT_MODEL = \"gpt-3.5-turbo\"\n",
        "\n",
        "def generate_query(prompt: str, table_definitions: str):\n",
        "    \"\"\"Answers a query using GPT\"\"\"\n",
        "    system = \"You are an SQL generator that only returns TSQL sequel statements and no natural language. Given the table names, definitions and a prompt.\"\n",
        "    messages = [\n",
        "        {\"role\": \"system\", \"content\": system},\n",
        "        {\"role\": \"user\", \"content\": table_definitions+prompt}\n",
        "    ]\n",
        "    #print(messages)\n",
        "\n",
        "    response = openai.ChatCompletion.create(\n",
        "        model=GPT_MODEL,\n",
        "        messages=messages,\n",
        "        temperature=0\n",
        "    )\n",
        "\n",
        "    response_message = response[\"choices\"][0][\"message\"][\"content\"]\n",
        "    #print(response_message)\n",
        "\n",
        "    return response_message\n",
        "\n",
        "def parse_result_in_natural_language(prompt: str, result: str):\n",
        "    '''\n",
        "    Parses the result of a query into natural language\n",
        "    '''\n",
        "    completion = prompt + '\\n' + result\n",
        "    messages = [\n",
        "        {\"role\" : \"system\", \"content\" : \"You transalte the result of a query and a prompt into natural language.\"},\n",
        "        {\"role\": \"user\", \"content\": completion}\n",
        "    ]\n",
        "    response = openai.ChatCompletion.create(\n",
        "        model=GPT_MODEL,\n",
        "        messages = messages,\n",
        "        temperature=0\n",
        "    )\n",
        "    return response[\"choices\"][0][\"message\"][\"content\"]\n",
        "\n",
        "\n",
        "def run_query(prompt: str, return_natural_language: bool = False):\n",
        "    query = generate_query(prompt, table_definitions)\n",
        "    with engine.connect() as conn:\n",
        "        result =  pd.read_sql(query, conn).to_markdown()\n",
        "\n",
        "    if return_natural_language:\n",
        "        result = parse_result_in_natural_language(prompt, result)\n",
        "\n",
        "    return result\n"
      ]
    },
    {
      "cell_type": "markdown",
      "metadata": {
        "id": "AUsFMgFEAk5H"
      },
      "source": [
        "## Let's try it out 🤗\n",
        "As you can see, when setting the function return_result to True, the system returns the result in natural language. This is done by parsing the result and replacing the column names with the column names in the question."
      ]
    },
    {
      "cell_type": "code",
      "execution_count": null,
      "metadata": {
        "id": "vmI-AI81Ak5H",
        "outputId": "90e2d0e4-ade8-4359-dcc9-5b968aafaebd"
      },
      "outputs": [
        {
          "name": "stdout",
          "output_type": "stream",
          "text": [
            "The most expensive car in the given data is an Audi A8 from the year 1997, which costs 9849.09.\n"
          ]
        }
      ],
      "source": [
        "print(run_query('What is the most expensive car?', return_natural_language=True))"
      ]
    },
    {
      "cell_type": "code",
      "execution_count": null,
      "metadata": {
        "id": "4FMYSspbAk5H",
        "outputId": "1295d8b9-a216-47b5-99ce-2b9798278c29"
      },
      "outputs": [
        {
          "name": "stdout",
          "output_type": "stream",
          "text": [
            "|    | City     |   TotalRevenue |\n",
            "|---:|:---------|---------------:|\n",
            "|  0 | Houwaart |         638551 |\n"
          ]
        }
      ],
      "source": [
        "print(run_query('What city has the most sales revenue?'))"
      ]
    },
    {
      "cell_type": "code",
      "execution_count": null,
      "metadata": {
        "id": "kSJh2iYBAk5H",
        "outputId": "ce1bb613-95d8-4f1d-a32b-93dd71b671b2"
      },
      "outputs": [
        {
          "name": "stdout",
          "output_type": "stream",
          "text": [
            "The best sales agent is Bart Peeters.\n"
          ]
        }
      ],
      "source": [
        "print(run_query('Who is the best sales agent ?', return_natural_language=True))"
      ]
    },
    {
      "cell_type": "code",
      "execution_count": null,
      "metadata": {
        "id": "F5GUlRSuAk5H",
        "outputId": "957c9ddc-8fc3-4ee9-cad0-a477405cc472"
      },
      "outputs": [
        {
          "name": "stdout",
          "output_type": "stream",
          "text": [
            "|    | Brand   | Model                   |   TotalQuantity |\n",
            "|---:|:--------|:------------------------|----------------:|\n",
            "|  0 | Dodge   | Grand Caravan Passenger |            1695 |\n"
          ]
        }
      ],
      "source": [
        "print(run_query('What is the most popular car?'))"
      ]
    }
  ],
  "metadata": {
    "deepnote": {},
    "deepnote_execution_queue": [],
    "deepnote_notebook_id": "904895a1f7984c57b0abe32f19bd104e",
    "kernelspec": {
      "display_name": "Python 3",
      "language": "python",
      "name": "python3"
    },
    "language_info": {
      "codemirror_mode": {
        "name": "ipython",
        "version": 3
      },
      "file_extension": ".py",
      "mimetype": "text/x-python",
      "name": "python",
      "nbconvert_exporter": "python",
      "pygments_lexer": "ipython3",
      "version": "3.11.3"
    },
    "orig_nbformat": 2,
    "colab": {
      "provenance": []
    }
  },
  "nbformat": 4,
  "nbformat_minor": 0
}